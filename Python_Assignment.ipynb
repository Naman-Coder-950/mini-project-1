{
  "nbformat": 4,
  "nbformat_minor": 0,
  "metadata": {
    "colab": {
      "provenance": [],
      "authorship_tag": "ABX9TyPpaB21HhLm1dXYwC9KoXtN",
      "include_colab_link": true
    },
    "kernelspec": {
      "name": "python3",
      "display_name": "Python 3"
    },
    "language_info": {
      "name": "python"
    }
  },
  "cells": [
    {
      "cell_type": "markdown",
      "metadata": {
        "id": "view-in-github",
        "colab_type": "text"
      },
      "source": [
        "<a href=\"https://colab.research.google.com/github/Naman-Coder-950/mini-project-1/blob/main/Python_Assignment.ipynb\" target=\"_parent\"><img src=\"https://colab.research.google.com/assets/colab-badge.svg\" alt=\"Open In Colab\"/></a>"
      ]
    },
    {
      "cell_type": "code",
      "execution_count": null,
      "metadata": {
        "colab": {
          "base_uri": "https://localhost:8080/"
        },
        "id": "RgpA_HCllp-r",
        "outputId": "26fdc9cb-3cfe-4d13-fad6-0ff4685c0d2c"
      },
      "outputs": [
        {
          "output_type": "stream",
          "name": "stdout",
          "text": [
            "Initial List: [11, 12, 13, 14]\n",
            "(i) After adding 50 and 60: [11, 12, 13, 14, 50, 60]\n",
            "(ii) After removing 11 and 13: [12, 14, 50, 60]\n",
            "(iii) Sorted in ascending order: [12, 14, 50, 60]\n",
            "(iv) Sorted in descending order: [60, 50, 14, 12]\n",
            "(v) 13 is not found in the list.\n",
            "(vi) Number of elements in L: 4\n",
            "(vii) Sum of all elements: 136\n",
            "(viii) Sum of odd numbers: 0\n",
            "(ix) Sum of even numbers: 136\n",
            "(x) Sum of prime numbers: 0\n",
            "(xi) After clearing list: []\n",
            "(xii) List L is deleted.\n"
          ]
        }
      ],
      "source": [
        "# Initial list\n",
        "L = [11, 12, 13, 14]\n",
        "print(\"Initial List:\", L)\n",
        "\n",
        "# (i) Add 50 and 60 to L\n",
        "L.append(50)\n",
        "L.append(60)\n",
        "print(\"(i) After adding 50 and 60:\", L)\n",
        "\n",
        "# (ii) Remove 11 and 13 from L\n",
        "L.remove(11)\n",
        "L.remove(13)\n",
        "print(\"(ii) After removing 11 and 13:\", L)\n",
        "\n",
        "# (iii) Sort L in ascending order\n",
        "L.sort()\n",
        "print(\"(iii) Sorted in ascending order:\", L)\n",
        "\n",
        "# (iv) Sort L in descending order\n",
        "L.sort(reverse=True)\n",
        "print(\"(iv) Sorted in descending order:\", L)\n",
        "\n",
        "# (v) Search for 13 in L\n",
        "if 13 in L:\n",
        "    print(\"(v) 13 is found in the list.\")\n",
        "else:\n",
        "    print(\"(v) 13 is not found in the list.\")\n",
        "\n",
        "# (vi) Count number of elements in L\n",
        "count = len(L)\n",
        "print(\"(vi) Number of elements in L:\", count)\n",
        "\n",
        "# (vii) Sum all elements in L\n",
        "total_sum = sum(L)\n",
        "print(\"(vii) Sum of all elements:\", total_sum)\n",
        "\n",
        "# (viii) Sum of all odd numbers in L\n",
        "odd_sum = sum(x for x in L if x % 2 != 0)\n",
        "print(\"(viii) Sum of odd numbers:\", odd_sum)\n",
        "\n",
        "# (ix) Sum of all even numbers in L\n",
        "even_sum = sum(x for x in L if x % 2 == 0)\n",
        "print(\"(ix) Sum of even numbers:\", even_sum)\n",
        "\n",
        "# (x) Sum of all prime numbers in L\n",
        "def is_prime(n):\n",
        "    if n < 2:\n",
        "        return False\n",
        "    for i in range(2, int(n**0.5)+1):\n",
        "        if n % i == 0:\n",
        "            return False\n",
        "    return True\n",
        "\n",
        "prime_sum = sum(x for x in L if is_prime(x))\n",
        "print(\"(x) Sum of prime numbers:\", prime_sum)\n",
        "\n",
        "# (xi) Clear all elements in L\n",
        "L.clear()\n",
        "print(\"(xi) After clearing list:\", L)\n",
        "\n",
        "# (xii) Delete L\n",
        "del L\n",
        "print(\"(xii) List L is deleted.\")\n"
      ]
    },
    {
      "cell_type": "code",
      "source": [
        "# Initial dictionary\n",
        "D = {1: 5.6, 2: 7.8, 3: 6.6, 4: 8.7, 5: 7.7}\n",
        "print(\"Initial Dictionary:\", D)\n",
        "\n",
        "# (i) Add new entry key=8, value=8.8\n",
        "D[8] = 8.8\n",
        "print(\"(i) After adding key=8, value=8.8:\", D)\n",
        "\n",
        "# (ii) Remove key=2\n",
        "if 2 in D:\n",
        "    del D[2]\n",
        "    print(\"(ii) After removing key=2:\", D)\n",
        "else:\n",
        "    print(\"(ii) Key=2 not found.\")\n",
        "\n",
        "# (iii) Check whether key=6 is present\n",
        "if 6 in D:\n",
        "    print(\"(iii) Key=6 is present in the dictionary.\")\n",
        "else:\n",
        "    print(\"(iii) Key=6 is NOT present in the dictionary.\")\n",
        "\n",
        "# (iv) Count number of elements in D\n",
        "count = len(D)\n",
        "print(\"(iv) Number of elements in D:\", count)\n",
        "\n",
        "# (v) Add all values in D\n",
        "value_sum = sum(D.values())\n",
        "print(\"(v) Sum of all values in D:\", value_sum)\n",
        "\n",
        "# (vi) Update the value of key=3 to 7.1\n",
        "if 3 in D:\n",
        "    D[3] = 7.1\n",
        "    print(\"(vi) After updating key=3 to 7.1:\", D)\n",
        "else:\n",
        "    print(\"(vi) Key=3 not found.\")\n",
        "\n",
        "# (vii) Clear the dictionary\n",
        "D.clear()\n",
        "print(\"(vii) After clearing the dictionary:\", D)\n"
      ],
      "metadata": {
        "colab": {
          "base_uri": "https://localhost:8080/"
        },
        "id": "InXbmIgll1-q",
        "outputId": "bd5dbfcf-c881-4136-d523-87c60ef7c054"
      },
      "execution_count": null,
      "outputs": [
        {
          "output_type": "stream",
          "name": "stdout",
          "text": [
            "Initial Dictionary: {1: 5.6, 2: 7.8, 3: 6.6, 4: 8.7, 5: 7.7}\n",
            "(i) After adding key=8, value=8.8: {1: 5.6, 2: 7.8, 3: 6.6, 4: 8.7, 5: 7.7, 8: 8.8}\n",
            "(ii) After removing key=2: {1: 5.6, 3: 6.6, 4: 8.7, 5: 7.7, 8: 8.8}\n",
            "(iii) Key=6 is NOT present in the dictionary.\n",
            "(iv) Number of elements in D: 5\n",
            "(v) Sum of all values in D: 37.4\n",
            "(vi) After updating key=3 to 7.1: {1: 5.6, 3: 7.1, 4: 8.7, 5: 7.7, 8: 8.8}\n",
            "(vii) After clearing the dictionary: {}\n"
          ]
        }
      ]
    },
    {
      "cell_type": "code",
      "source": [
        "# Initial lists, convert them to sets\n",
        "S1 = set([10, 20, 30, 40, 50, 60])\n",
        "S2 = set([40, 50, 60, 70, 80, 90])\n",
        "print(\"Initial S1:\", S1)\n",
        "print(\"Initial S2:\", S2)\n",
        "\n",
        "# (i) Add 55 and 66 to S1\n",
        "S1.add(55)\n",
        "S1.add(66)\n",
        "print(\"(i) After adding 55 and 66 to S1:\", S1)\n",
        "\n",
        "# (ii) Remove 10 and 30 from S1\n",
        "S1.discard(10)  # Using discard to avoid error if not present\n",
        "S1.discard(30)\n",
        "print(\"(ii) After removing 10 and 30 from S1:\", S1)\n",
        "\n",
        "# (iii) Check whether 40 is present in S1\n",
        "if 40 in S1:\n",
        "    print(\"(iii) 40 is present in S1.\")\n",
        "else:\n",
        "    print(\"(iii) 40 is NOT present in S1.\")\n",
        "\n",
        "# (iv) Find the union of S1 and S2\n",
        "union_set = S1.union(S2)\n",
        "print(\"(iv) Union of S1 and S2:\", union_set)\n",
        "\n",
        "# (v) Find the intersection of S1 and S2\n",
        "intersection_set = S1.intersection(S2)\n",
        "print(\"(v) Intersection of S1 and S2:\", intersection_set)\n",
        "\n",
        "# (vi) Find S1 - S2 (difference)\n",
        "difference_set = S1.difference(S2)\n",
        "print(\"(vi) Elements in S1 but not in S2:\", difference_set)\n"
      ],
      "metadata": {
        "colab": {
          "base_uri": "https://localhost:8080/"
        },
        "id": "Jv1cYZ7KmI1L",
        "outputId": "08d77afe-a880-467a-9537-8a18bcdcdb89"
      },
      "execution_count": null,
      "outputs": [
        {
          "output_type": "stream",
          "name": "stdout",
          "text": [
            "Initial S1: {40, 10, 50, 20, 60, 30}\n",
            "Initial S2: {70, 40, 80, 50, 90, 60}\n",
            "(i) After adding 55 and 66 to S1: {66, 40, 10, 50, 20, 55, 60, 30}\n",
            "(ii) After removing 10 and 30 from S1: {66, 40, 50, 20, 55, 60}\n",
            "(iii) 40 is present in S1.\n",
            "(iv) Union of S1 and S2: {66, 70, 40, 80, 50, 20, 55, 90, 60}\n",
            "(v) Intersection of S1 and S2: {40, 50, 60}\n",
            "(vi) Elements in S1 but not in S2: {66, 20, 55}\n"
          ]
        }
      ]
    },
    {
      "cell_type": "code",
      "source": [
        "import random\n",
        "import string\n",
        "\n",
        "print(\"(i) 100 Random Strings of length between 6 and 8:\")\n",
        "for _ in range(100):\n",
        "    length = random.randint(6, 8)\n",
        "    rand_str = ''.join(random.choices(string.ascii_letters + string.digits, k=length))\n",
        "    print(rand_str)\n",
        "\n",
        "print(\"\\n(ii) Prime numbers between 600 and 800:\")\n",
        "\n",
        "def is_prime(n):\n",
        "    if n < 2:\n",
        "        return False\n",
        "    for i in range(2, int(n**0.5)+1):\n",
        "        if n % i == 0:\n",
        "            return False\n",
        "    return True\n",
        "\n",
        "for num in range(600, 801):\n",
        "    if is_prime(num):\n",
        "        print(num, end=\" \")\n",
        "\n",
        "print(\"\\n\\n(iii) Numbers between 100 and 1000 divisible by both 7 and 9:\")\n",
        "\n",
        "for num in range(100, 1001):\n",
        "    if num % 7 == 0 and num % 9 == 0:\n",
        "        print(num, end=\" \")\n"
      ],
      "metadata": {
        "colab": {
          "base_uri": "https://localhost:8080/"
        },
        "id": "rH7VzGcImYFH",
        "outputId": "43310967-6985-42b9-8718-c8cb67906f43"
      },
      "execution_count": null,
      "outputs": [
        {
          "output_type": "stream",
          "name": "stdout",
          "text": [
            "(i) 100 Random Strings of length between 6 and 8:\n",
            "AH2FizT\n",
            "8GAMkal\n",
            "K4eDzsyp\n",
            "CXpnjFJs\n",
            "Bxnq8sm\n",
            "c9XtwKvd\n",
            "YHbQXnj\n",
            "kd0oYc\n",
            "3UQvkQri\n",
            "wMNWfISS\n",
            "1YCevVX\n",
            "BKUTVRhy\n",
            "ozdldSH\n",
            "K1EnTI\n",
            "ja9a8plB\n",
            "3plY3n\n",
            "EijAeD\n",
            "jHU7ke\n",
            "w7QYEk\n",
            "YkDNW7F\n",
            "8vW4Fg8r\n",
            "J4sDfeAp\n",
            "SOijCSMS\n",
            "iidJ84\n",
            "okC9zvD7\n",
            "dCt9l5ai\n",
            "PHA1CzB\n",
            "NSdRlP\n",
            "i9zPmZg\n",
            "1M3Z1Jmq\n",
            "XOU9UjX6\n",
            "sP0SFr\n",
            "Nu7LTujd\n",
            "k5y5e3fw\n",
            "brzSRY\n",
            "ShpeZT\n",
            "z5KwEB\n",
            "nAKj2hEp\n",
            "pEusWR0\n",
            "kiKiayJ\n",
            "Mx4KKO\n",
            "QKQRj3n\n",
            "DUCcrcTG\n",
            "oTeG0fi1\n",
            "D98mIE3f\n",
            "DwGkwBgD\n",
            "fvfZ10\n",
            "8FF9BEl6\n",
            "uCTxwWp\n",
            "FAeXO3\n",
            "DGIytJ\n",
            "o8hKJK\n",
            "iuQqhWgV\n",
            "67tont\n",
            "g0TmFpI\n",
            "4ylcII9\n",
            "PQSqHSc\n",
            "QCIpyTR\n",
            "2HoPCk9\n",
            "scGScl\n",
            "n6QhZp\n",
            "QSpCEN\n",
            "eNG8Lb\n",
            "G9lvW1\n",
            "0qsQFIwZ\n",
            "gz8927X\n",
            "jWoYmUc\n",
            "fXfT6brE\n",
            "9OoFi5\n",
            "e1KoXS\n",
            "fxgi2r9\n",
            "zm6UWs\n",
            "EKoTnzR8\n",
            "AMBBpYQ\n",
            "guUPa7j\n",
            "gJllmxx\n",
            "zpBfO6V\n",
            "BNlOOE\n",
            "ZcToEpy\n",
            "2dyRNNA\n",
            "BfZAQc\n",
            "9sVTgw\n",
            "jsLUehu\n",
            "WZgqpbrm\n",
            "pmaKNp\n",
            "kGAQKCH\n",
            "7M1lfVch\n",
            "oXZf5e\n",
            "fKuvU2Tb\n",
            "AMJxeq\n",
            "0Muu6kh\n",
            "XYDjAQ\n",
            "sNJPW7w3\n",
            "XNZZ4aV\n",
            "2ahfPq\n",
            "vPT3LE\n",
            "IS1ghOqO\n",
            "XCu5CWF\n",
            "GlqBER\n",
            "Kr7qb0ER\n",
            "\n",
            "(ii) Prime numbers between 600 and 800:\n",
            "601 607 613 617 619 631 641 643 647 653 659 661 673 677 683 691 701 709 719 727 733 739 743 751 757 761 769 773 787 797 \n",
            "\n",
            "(iii) Numbers between 100 and 1000 divisible by both 7 and 9:\n",
            "126 189 252 315 378 441 504 567 630 693 756 819 882 945 "
          ]
        }
      ]
    },
    {
      "cell_type": "code",
      "source": [
        "import random\n",
        "\n",
        "# Generate two lists with 10 random integers between 10 and 30\n",
        "list1 = [random.randint(10, 30) for _ in range(10)]\n",
        "list2 = [random.randint(10, 30) for _ in range(10)]\n",
        "\n",
        "print(\"List 1:\", list1)\n",
        "print(\"List 2:\", list2)\n",
        "\n",
        "# (i) Common numbers in the two lists\n",
        "common = list(set(list1) & set(list2))\n",
        "print(\"\\n(i) Common numbers:\", common)\n",
        "\n",
        "# (ii) Unique numbers in both lists\n",
        "unique = list(set(list1) ^ set(list2))  # symmetric difference\n",
        "print(\"(ii) Unique numbers in both lists:\", unique)\n",
        "\n",
        "# (iii) Minimum in both lists\n",
        "min_list1 = min(list1)\n",
        "min_list2 = min(list2)\n",
        "print(\"(iii) Minimum in List 1:\", min_list1)\n",
        "print(\"      Minimum in List 2:\", min_list2)\n",
        "\n",
        "# (iv) Maximum in both lists\n",
        "max_list1 = max(list1)\n",
        "max_list2 = max(list2)\n",
        "print(\"(iv) Maximum in List 1:\", max_list1)\n",
        "print(\"      Maximum in List 2:\", max_list2)\n",
        "\n",
        "# (v) Sum of both lists\n",
        "sum_list1 = sum(list1)\n",
        "sum_list2 = sum(list2)\n",
        "print(\"(v) Sum of List 1:\", sum_list1)\n",
        "print(\"    Sum of List 2:\", sum_list2)\n"
      ],
      "metadata": {
        "colab": {
          "base_uri": "https://localhost:8080/"
        },
        "id": "DmWRjwxSmuCo",
        "outputId": "89e00646-08b7-421e-f75d-bb933095b991"
      },
      "execution_count": null,
      "outputs": [
        {
          "output_type": "stream",
          "name": "stdout",
          "text": [
            "List 1: [18, 16, 20, 16, 22, 26, 10, 27, 26, 21]\n",
            "List 2: [26, 18, 16, 16, 22, 19, 13, 13, 12, 13]\n",
            "\n",
            "(i) Common numbers: [16, 18, 26, 22]\n",
            "(ii) Unique numbers in both lists: [10, 12, 13, 19, 20, 21, 27]\n",
            "(iii) Minimum in List 1: 10\n",
            "      Minimum in List 2: 12\n",
            "(iv) Maximum in List 1: 27\n",
            "      Maximum in List 2: 26\n",
            "(v) Sum of List 1: 202\n",
            "    Sum of List 2: 168\n"
          ]
        }
      ]
    },
    {
      "cell_type": "code",
      "source": [
        "import random\n",
        "\n",
        "# Generate 100 random integers between 100 and 900\n",
        "numbers = [random.randint(100, 900) for _ in range(100)]\n",
        "print(\"Generated List of 100 Random Numbers:\")\n",
        "print(numbers)\n",
        "\n",
        "# (i) All odd numbers\n",
        "odd_numbers = [n for n in numbers if n % 2 != 0]\n",
        "print(\"\\n(i) Odd Numbers (Total:\", len(odd_numbers), \"):\")\n",
        "print(odd_numbers)\n",
        "\n",
        "# (ii) All even numbers\n",
        "even_numbers = [n for n in numbers if n % 2 == 0]\n",
        "print(\"\\n(ii) Even Numbers (Total:\", len(even_numbers), \"):\")\n",
        "print(even_numbers)\n",
        "\n",
        "# (iii) All prime numbers\n",
        "def is_prime(n):\n",
        "    if n < 2:\n",
        "        return False\n",
        "    for i in range(2, int(n**0.5) + 1):\n",
        "        if n % i == 0:\n",
        "            return False\n",
        "    return True\n",
        "\n",
        "prime_numbers = [n for n in numbers if is_prime(n)]\n",
        "print(\"\\n(iii) Prime Numbers (Total:\", len(prime_numbers), \"):\")\n",
        "print(prime_numbers)\n"
      ],
      "metadata": {
        "colab": {
          "base_uri": "https://localhost:8080/"
        },
        "id": "cmD6tVJ5nFRl",
        "outputId": "88c109c9-ba9d-481b-c4d9-b9c5332c0946"
      },
      "execution_count": 9,
      "outputs": [
        {
          "output_type": "stream",
          "name": "stdout",
          "text": [
            "Generated List of 100 Random Numbers:\n",
            "[776, 378, 366, 875, 628, 425, 375, 399, 862, 416, 588, 188, 846, 561, 799, 630, 578, 253, 613, 504, 208, 475, 225, 536, 594, 209, 843, 101, 496, 552, 106, 260, 868, 777, 384, 335, 117, 697, 675, 267, 298, 866, 770, 177, 441, 233, 291, 166, 561, 795, 314, 614, 387, 309, 232, 525, 584, 360, 492, 359, 475, 650, 203, 786, 640, 819, 780, 808, 900, 866, 296, 548, 427, 325, 304, 485, 549, 434, 881, 619, 858, 434, 701, 871, 563, 317, 426, 247, 715, 173, 151, 527, 544, 583, 290, 297, 860, 702, 203, 409]\n",
            "\n",
            "(i) Odd Numbers (Total: 51 ):\n",
            "[875, 425, 375, 399, 561, 799, 253, 613, 475, 225, 209, 843, 101, 777, 335, 117, 697, 675, 267, 177, 441, 233, 291, 561, 795, 387, 309, 525, 359, 475, 203, 819, 427, 325, 485, 549, 881, 619, 701, 871, 563, 317, 247, 715, 173, 151, 527, 583, 297, 203, 409]\n",
            "\n",
            "(ii) Even Numbers (Total: 49 ):\n",
            "[776, 378, 366, 628, 862, 416, 588, 188, 846, 630, 578, 504, 208, 536, 594, 496, 552, 106, 260, 868, 384, 298, 866, 770, 166, 314, 614, 232, 584, 360, 492, 650, 786, 640, 780, 808, 900, 866, 296, 548, 304, 434, 858, 434, 426, 544, 290, 860, 702]\n",
            "\n",
            "(iii) Prime Numbers (Total: 12 ):\n",
            "[613, 101, 233, 359, 881, 619, 701, 563, 317, 173, 151, 409]\n"
          ]
        }
      ]
    },
    {
      "cell_type": "code",
      "source": [
        "\n",
        "# Define the dictionary\n",
        "D = {1: \"One\", 2: \"Two\", 3: \"Three\", 4: \"Four\", 5: \"Five\"}\n",
        "\n",
        "# Open a file in write mode\n",
        "with open(\"dictionary_output.txt\", \"w\") as file:\n",
        "    for key, value in D.items():\n",
        "        file.write(f\"{key}, {value}\\n\")\n",
        "\n",
        "print(\"Dictionary has been written to 'dictionary_output.txt' in the required format.\")\n"
      ],
      "metadata": {
        "colab": {
          "base_uri": "https://localhost:8080/"
        },
        "id": "1Q_NPs5Ln7Wo",
        "outputId": "298390a3-a6b4-48ab-f476-3d6f46d39f70"
      },
      "execution_count": 11,
      "outputs": [
        {
          "output_type": "stream",
          "name": "stdout",
          "text": [
            "Dictionary has been written to 'dictionary_output.txt' in the required format.\n"
          ]
        }
      ]
    },
    {
      "cell_type": "code",
      "source": [
        "# Define the list\n",
        "L = [\"One\", \"Two\", \"Three\", \"Four\", \"Five\"]\n",
        "\n",
        "# Open the file for writing\n",
        "with open(\"length_output.txt\", \"w\") as file:\n",
        "    for item in L:\n",
        "        length = len(item)\n",
        "        file.write(f\"{item}, {length}\\n\")\n",
        "\n",
        "print(\"Element lengths written to 'length_output.txt'.\")\n"
      ],
      "metadata": {
        "colab": {
          "base_uri": "https://localhost:8080/"
        },
        "id": "jWMQhu4UoG0e",
        "outputId": "90e20706-dae7-445d-e607-40c9b2a94b84"
      },
      "execution_count": 12,
      "outputs": [
        {
          "output_type": "stream",
          "name": "stdout",
          "text": [
            "Element lengths written to 'length_output.txt'.\n"
          ]
        }
      ]
    },
    {
      "cell_type": "code",
      "source": [
        "import random\n",
        "import string\n",
        "\n",
        "# Open a file to write the random strings\n",
        "with open(\"random_strings.txt\", \"w\") as file:\n",
        "    for _ in range(100):\n",
        "        length = random.randint(10, 15)\n",
        "        rand_str = ''.join(random.choices(string.ascii_letters + string.digits, k=length))\n",
        "        file.write(rand_str + \"\\n\")\n",
        "\n",
        "print(\"100 random strings written to 'random_strings.txt'.\")\n"
      ],
      "metadata": {
        "colab": {
          "base_uri": "https://localhost:8080/"
        },
        "id": "5WTcXdCXoYaO",
        "outputId": "0a3cb71c-ad45-40ab-ceaf-c68bf8f52b3f"
      },
      "execution_count": 13,
      "outputs": [
        {
          "output_type": "stream",
          "name": "stdout",
          "text": [
            "100 random strings written to 'random_strings.txt'.\n"
          ]
        }
      ]
    },
    {
      "cell_type": "code",
      "source": [
        "def is_prime(n):\n",
        "    if n < 2:\n",
        "        return False\n",
        "    for i in range(2, int(n**0.5) + 1):\n",
        "        if n % i == 0:\n",
        "            return False\n",
        "    return True\n",
        "\n",
        "with open(\"primes_600_800.txt\", \"w\") as file:\n",
        "    for num in range(600, 801):\n",
        "        if is_prime(num):\n",
        "            file.write(str(num) + \"\\n\")\n",
        "\n",
        "print(\"Prime numbers between 600 and 800 written to 'primes_600_800.txt'.\")\n"
      ],
      "metadata": {
        "colab": {
          "base_uri": "https://localhost:8080/"
        },
        "id": "mil1tpEfouSL",
        "outputId": "f981bd5f-bdbf-4ec8-8367-f77bd37fbf3f"
      },
      "execution_count": 14,
      "outputs": [
        {
          "output_type": "stream",
          "name": "stdout",
          "text": [
            "Prime numbers between 600 and 800 written to 'primes_600_800.txt'.\n"
          ]
        }
      ]
    },
    {
      "cell_type": "code",
      "source": [
        "import time\n",
        "\n",
        "start_time = time.time()  # Record start time\n",
        "\n",
        "# --- Your program or code block starts here ---\n",
        "# Example: A loop that sums numbers from 1 to 1 million\n",
        "total = 0\n",
        "for i in range(1, 1000001):\n",
        "    total += i\n",
        "# --- Your program or code block ends here ---\n",
        "\n",
        "end_time = time.time()  # Record end time\n",
        "\n",
        "elapsed_time = end_time - start_time  # Calculate elapsed time in seconds\n",
        "print(f\"Time taken: {elapsed_time:.6f} seconds\")\n"
      ],
      "metadata": {
        "colab": {
          "base_uri": "https://localhost:8080/"
        },
        "id": "QRTOlq8sowiL",
        "outputId": "ef050648-eb47-473e-ff95-9def80e669cf"
      },
      "execution_count": 15,
      "outputs": [
        {
          "output_type": "stream",
          "name": "stdout",
          "text": [
            "Time taken: 0.133140 seconds\n"
          ]
        }
      ]
    },
    {
      "cell_type": "code",
      "source": [
        "import random\n",
        "import time\n",
        "import matplotlib.pyplot as plt\n",
        "\n",
        "# List sizes\n",
        "sizes = [5000, 10000, 15000, 20000, 25000]\n",
        "times = []\n",
        "\n",
        "for size in sizes:\n",
        "    # Generate a list of random integers between 1 and 100000\n",
        "    lst = [random.randint(1, 100000) for _ in range(size)]\n",
        "\n",
        "    start = time.time()\n",
        "    lst.sort()  # Sort the list\n",
        "    end = time.time()\n",
        "\n",
        "    elapsed = end - start\n",
        "    times.append(elapsed)\n",
        "    print(f\"Sorted list of size {size} in {elapsed:.6f} seconds\")\n",
        "\n",
        "# Plotting the graph\n",
        "plt.figure(figsize=(8,5))\n",
        "plt.plot(sizes, times, marker='o', linestyle='-', color='b')\n",
        "plt.title(\"Time Taken to Sort Lists of Different Sizes\")\n",
        "plt.xlabel(\"Number of Elements\")\n",
        "plt.ylabel(\"Time Taken (seconds)\")\n",
        "plt.grid(True)\n",
        "plt.show()\n"
      ],
      "metadata": {
        "colab": {
          "base_uri": "https://localhost:8080/",
          "height": 574
        },
        "id": "904oydlao6fN",
        "outputId": "9f579518-6f51-4df0-d2e5-28ece4c9552a"
      },
      "execution_count": 16,
      "outputs": [
        {
          "output_type": "stream",
          "name": "stdout",
          "text": [
            "Sorted list of size 5000 in 0.001037 seconds\n",
            "Sorted list of size 10000 in 0.002291 seconds\n",
            "Sorted list of size 15000 in 0.014196 seconds\n",
            "Sorted list of size 20000 in 0.005569 seconds\n",
            "Sorted list of size 25000 in 0.009874 seconds\n"
          ]
        },
        {
          "output_type": "display_data",
          "data": {
            "text/plain": [
              "<Figure size 800x500 with 1 Axes>"
            ],
            "image/png": "[encoded data removed]"
          },
          "metadata": {}
        }
      ]
    },
    {
      "cell_type": "code",
      "source": [
        "# Sample dictionary: student_name -> list of marks in 5 subjects\n",
        "student_marks = {\n",
        "    \"Alice\": [85, 90, 78, 92, 88],\n",
        "    \"Bob\": [75, 80, 79, 83, 77],\n",
        "    \"Charlie\": [95, 92, 90, 96, 94],\n",
        "    \"David\": [65, 70, 60, 68, 72],\n",
        "    \"Eva\": [88, 85, 87, 90, 86]\n",
        "}\n",
        "\n",
        "# Calculate average marks for each student\n",
        "averages = {student: sum(marks) / len(marks) for student, marks in student_marks.items()}\n",
        "\n",
        "# Find student with maximum average\n",
        "max_student = max(averages, key=averages.get)\n",
        "max_avg = averages[max_student]\n",
        "\n",
        "# Find student with minimum average\n",
        "min_student = min(averages, key=averages.get)\n",
        "min_avg = averages[min_student]\n",
        "\n",
        "print(f\"Student with maximum average marks: {max_student} ({max_avg:.2f})\")\n",
        "print(f\"Student with minimum average marks: {min_student} ({min_avg:.2f})\")\n"
      ],
      "metadata": {
        "colab": {
          "base_uri": "https://localhost:8080/"
        },
        "id": "EGhkeWcjpJRT",
        "outputId": "73b9fdbe-69db-4bb9-acce-7f3108cba2a0"
      },
      "execution_count": 17,
      "outputs": [
        {
          "output_type": "stream",
          "name": "stdout",
          "text": [
            "Student with maximum average marks: Charlie (93.40)\n",
            "Student with minimum average marks: David (67.00)\n"
          ]
        }
      ]
    }
  ]
}